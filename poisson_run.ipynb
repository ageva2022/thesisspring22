{
 "cells": [
  {
   "cell_type": "code",
   "execution_count": 2,
   "metadata": {},
   "outputs": [],
   "source": [
    "import numpy as np \n",
    "import matplotlib.pyplot as plt\n",
    "import random\n",
    "import csv"
   ]
  },
  {
   "cell_type": "code",
   "execution_count": 3,
   "metadata": {},
   "outputs": [],
   "source": [
    "# 1: procedure BLB\n",
    "\n",
    "k = 10 #number of partitions\n",
    "r = 500 #bootstrap iterations\n",
    "\n",
    "# tau: estimators\n",
    "tau = np.zeros([k,r])\n",
    "\n",
    "def estimator_mean(data):\n",
    "    return np.mean(data)\n",
    "\n",
    "def estimator_var(data):\n",
    "    return np.var(data)"
   ]
  },
  {
   "cell_type": "code",
   "execution_count": 4,
   "metadata": {},
   "outputs": [],
   "source": [
    "def blb(estimator_func, data, n):\n",
    "    theta_vec = []\n",
    "    sigma_sq_vec = []\n",
    "    # randomly partition X into k subsets\n",
    "    random.shuffle(data)\n",
    "    partitions = [data[i:i + k] for i in range(0, len(data), k)]\n",
    "\n",
    "    # range for randint\n",
    "    low=0\n",
    "    high=len(partitions[0]) #don't need to do b-1 because upper bound is exclusive\n",
    "\n",
    "    # for each partition\n",
    "    for i in range(k):\n",
    "    \n",
    "        b = len(partitions[i]) \n",
    "    \n",
    "        # for a partition, create r subsets\n",
    "        for c in range(r):\n",
    "            I = np.random.randint(low, high, size=n)\n",
    "            replicate = data[I]\n",
    "        \n",
    "        \n",
    "            tau[i,c] = estimator_func(replicate)  \n",
    "           \n",
    "        low = low + b\n",
    "        high = high + b\n",
    "        \n",
    "    # mean and var of estimators for each prtition, not the data        \n",
    "    theta_vec = np.mean(tau,axis=1)\n",
    "    sigma_sq_vec = np.var(tau,axis=1) #var\n",
    "\n",
    "    # should be private. for now, non private\n",
    "    theta = np.mean(theta_vec)\n",
    "    sigma_sq = np.mean(sigma_sq_vec) #var\n",
    "\n",
    "    return (theta, sigma_sq)"
   ]
  },
  {
   "cell_type": "code",
   "execution_count": 8,
   "metadata": {},
   "outputs": [],
   "source": [
    "header = ['n', 'T', 'true_parameter', 'estimator_mean', 'estimator_variance']\n",
    "\n",
    "T = 100 #trials\n",
    "list_of_n = [1000, 2500, 5000, 10000, 15000, 20000]\n",
    "\n",
    "true_theta = 4\n",
    "\n",
    "\n",
    "with open('blb_poisson.csv', 'w', encoding='UTF8', newline='') as file:\n",
    "    writer = csv.writer(file)\n",
    "\n",
    "    # write the header\n",
    "    writer.writerow(header)\n",
    "\n",
    "    for n in list_of_n:\n",
    "        for t in range(T):\n",
    "            data = np.random.poisson(true_theta, n)\n",
    "            theta, sigma_sq = blb(estimator_mean, data, n) #returns mean and variance of estimator\n",
    "            row = [n, t, true_theta, theta, sigma_sq]\n",
    "        \n",
    "            # write the data\n",
    "            writer.writerow(row)"
   ]
  }
 ],
 "metadata": {
  "kernelspec": {
   "display_name": "Python 3 (ipykernel)",
   "language": "python",
   "name": "python3"
  },
  "language_info": {
   "codemirror_mode": {
    "name": "ipython",
    "version": 3
   },
   "file_extension": ".py",
   "mimetype": "text/x-python",
   "name": "python",
   "nbconvert_exporter": "python",
   "pygments_lexer": "ipython3",
   "version": "3.8.6"
  }
 },
 "nbformat": 4,
 "nbformat_minor": 4
}
