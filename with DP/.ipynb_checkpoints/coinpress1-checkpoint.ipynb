{
 "cells": [
  {
   "cell_type": "code",
   "execution_count": 1,
   "metadata": {},
   "outputs": [],
   "source": [
    "import numpy as np \n",
    "import matplotlib.pyplot as plt\n",
    "import random"
   ]
  },
  {
   "cell_type": "code",
   "execution_count": 2,
   "metadata": {},
   "outputs": [],
   "source": [
    "def UVM(data, lower, upper, var, rho, beta):\n",
    "    n = len(data)\n",
    "    \n",
    "    sd = np.sqrt(var)\n",
    "    \n",
    "    clamped_data = np.copy(data)\n",
    "    \n",
    "    T_lower = lower - sd*np.sqrt(2*np.log(2*n/beta))\n",
    "    T_upper = upper + sd*np.sqrt(2*np.log(2*n/beta))\n",
    "    \n",
    "    clamped_data[clamped_data>T_upper] = T_upper\n",
    "    clamped_data[clamped_data<T_lower] = T_lower\n",
    "    \n",
    "    delta = (upper-lower+2*sd*np.sqrt(2*np.log(2*n/beta)))/n\n",
    "    \n",
    "    Y = np.random.normal(0, (delta/np.sqrt(2*rho)))\n",
    "    \n",
    "    Z = np.mean(clamped_data) + Y\n",
    "    \n",
    "    \n",
    "    new_lower = Z - np.sqrt(2*((var/n) + (delta/np.sqrt(2*rho))**2)*np.log(2/beta))\n",
    "    new_upper = Z + np.sqrt(2*((var/n) + (delta/np.sqrt(2*rho))**2)*np.log(2/beta))\n",
    "    \n",
    "    return new_lower, new_upper"
   ]
  },
  {
   "cell_type": "code",
   "execution_count": 3,
   "metadata": {},
   "outputs": [],
   "source": [
    "def UVMRec(data, bounds, true_var, t, rho, beta):\n",
    "    lower = bounds[0]\n",
    "    upper = bounds[1]\n",
    "    \n",
    "    for i in range(t-1):\n",
    "        \n",
    "        lower, upper = UVM(data, lower, upper, true_var, rho/(4*(t-1)), (beta/(4*(t-1))))\n",
    "#         print(\"after it \", lower, \" \", upper)\n",
    "#         print(\"diff \", upper-lower)\n",
    "\n",
    "# save midpoint at each it and the list of rho\n",
    "    lower, upper = UVM(data, lower, upper, true_var, 3*rho/4, beta/4)\n",
    "    \n",
    "    \n",
    "    \n",
    "    return ((lower+upper)/2)"
   ]
  },
  {
   "cell_type": "code",
   "execution_count": 6,
   "metadata": {},
   "outputs": [],
   "source": [
    "def experiementUVMRec(true_mean, true_var, bounds, list_of_n):\n",
    "    \n",
    "    midpoints = []\n",
    "\n",
    "    t = 10\n",
    "    \n",
    "    for n in list_of_n:\n",
    "    \n",
    "        X = np.random.normal(true_mean, np.sqrt(true_var), n) #data\n",
    "        midpoint = UVMRec(X, bounds, true_var, t, rho, beta)\n",
    "    \n",
    "        midpoints.append(midpoint)\n",
    "    \n",
    "        print(midpoint)\n",
    "    \n",
    "\n",
    "    plt.axhline(y=true_mean, color='green', linestyle=':', label = 'target')\n",
    "    plt.plot([str(e) for e in list_of_n], midpoints, \n",
    "         marker='o', color='blue')\n",
    "    plt.xlabel(\"size of n\")\n",
    "    plt.ylabel(\"midpoint\")\n",
    "    plt.legend()\n",
    "    plt.show()\n",
    "    print(\"midpoint \", midpoint)"
   ]
  },
  {
   "cell_type": "code",
   "execution_count": 8,
   "metadata": {},
   "outputs": [
    {
     "name": "stdout",
     "output_type": "stream",
     "text": [
      "75430841.45260128\n",
      "222.5800490843203\n",
      "185.33380031359772\n",
      "190.13735045433194\n",
      "189.10570247974422\n",
      "193.98668499825465\n",
      "189.6043095962745\n",
      "190.76198271712087\n",
      "190.99841864630253\n"
     ]
    },
    {
     "data": {
      "image/png": "[encoded data removed]",
      "text/plain": [
       "<Figure size 432x288 with 1 Axes>"
      ]
     },
     "metadata": {
      "needs_background": "light"
     },
     "output_type": "display_data"
    },
    {
     "name": "stdout",
     "output_type": "stream",
     "text": [
      "midpoint  190.99841864630253\n"
     ]
    }
   ],
   "source": [
    "true_mean = 190\n",
    "true_sd = 30\n",
    "true_var = true_sd**2\n",
    "\n",
    "rho = 0.5\n",
    "beta = 0.1\n",
    "bounds = [0, 500]\n",
    "\n",
    "list_of_n = [10, 50, 100, 175, 250, 500, 750, 1000, 2500]\n",
    "\n",
    "experiementUVMRec(true_mean, true_var, bounds, list_of_n)"
   ]
  },
  {
   "cell_type": "code",
   "execution_count": 9,
   "metadata": {},
   "outputs": [
    {
     "name": "stdout",
     "output_type": "stream",
     "text": [
      "4613140.557995833\n",
      "210.74823595246517\n",
      "186.19427383711485\n",
      "191.5913649585955\n",
      "186.49994131950945\n",
      "193.0182880983\n",
      "188.4544647871065\n",
      "188.59837787882825\n",
      "191.43576465118153\n"
     ]
    },
    {
     "data": {
      "image/png": "[encoded data removed]",
      "text/plain": [
       "<Figure size 432x288 with 1 Axes>"
      ]
     },
     "metadata": {
      "needs_background": "light"
     },
     "output_type": "display_data"
    },
    {
     "name": "stdout",
     "output_type": "stream",
     "text": [
      "midpoint  191.43576465118153\n"
     ]
    }
   ],
   "source": [
    "true_mean = 190\n",
    "true_sd = 30\n",
    "true_var = 30**2\n",
    "\n",
    "rho = 0.5\n",
    "beta = 0.1\n",
    "bounds = [180, 200]\n",
    "\n",
    "list_of_n = [10, 50, 100, 175, 250, 500, 750, 1000, 2500]\n",
    "\n",
    "experiementUVMRec(true_mean, true_var, bounds, list_of_n)"
   ]
  }
 ],
 "metadata": {
  "kernelspec": {
   "display_name": "Python 3 (ipykernel)",
   "language": "python",
   "name": "python3"
  },
  "language_info": {
   "codemirror_mode": {
    "name": "ipython",
    "version": 3
   },
   "file_extension": ".py",
   "mimetype": "text/x-python",
   "name": "python",
   "nbconvert_exporter": "python",
   "pygments_lexer": "ipython3",
   "version": "3.8.6"
  }
 },
 "nbformat": 4,
 "nbformat_minor": 4
}
