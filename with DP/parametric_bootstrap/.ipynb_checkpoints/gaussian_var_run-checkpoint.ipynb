{
 "cells": [
  {
   "cell_type": "code",
   "execution_count": 6,
   "metadata": {},
   "outputs": [],
   "source": [
    "import numpy as np \n",
    "import matplotlib.pyplot as plt\n",
    "import random\n",
    "import csv\n",
    "\n",
    "from ipynb.fs.full.pb_private_var import bootstrap"
   ]
  },
  {
   "cell_type": "code",
   "execution_count": 7,
   "metadata": {},
   "outputs": [],
   "source": [
    "def estimator_mean(data):\n",
    "    return np.mean(data)\n",
    "\n",
    "def estimator_var(data):\n",
    "    return np.var(data)"
   ]
  },
  {
   "cell_type": "code",
   "execution_count": null,
   "metadata": {},
   "outputs": [],
   "source": []
  },
  {
   "cell_type": "code",
   "execution_count": 8,
   "metadata": {},
   "outputs": [
    {
     "ename": "TypeError",
     "evalue": "bootstrap() takes 3 positional arguments but 4 were given",
     "output_type": "error",
     "traceback": [
      "\u001b[1;31m---------------------------------------------------------------------------\u001b[0m",
      "\u001b[1;31mTypeError\u001b[0m                                 Traceback (most recent call last)",
      "Input \u001b[1;32mIn [8]\u001b[0m, in \u001b[0;36m<module>\u001b[1;34m\u001b[0m\n\u001b[0;32m     21\u001b[0m \u001b[38;5;28;01mfor\u001b[39;00m t \u001b[38;5;129;01min\u001b[39;00m \u001b[38;5;28mrange\u001b[39m(T):\n\u001b[0;32m     22\u001b[0m     data \u001b[38;5;241m=\u001b[39m np\u001b[38;5;241m.\u001b[39mrandom\u001b[38;5;241m.\u001b[39mnormal(true_mean, true_sd, n)\n\u001b[1;32m---> 23\u001b[0m     theta, sigma_sq \u001b[38;5;241m=\u001b[39m \u001b[43mbootstrap\u001b[49m\u001b[43m(\u001b[49m\u001b[43mB\u001b[49m\u001b[43m,\u001b[49m\u001b[43m \u001b[49m\u001b[43mdata\u001b[49m\u001b[43m,\u001b[49m\u001b[43m \u001b[49m\u001b[43mestimator_var\u001b[49m\u001b[43m,\u001b[49m\u001b[43m \u001b[49m\u001b[43mR\u001b[49m\u001b[43m)\u001b[49m\n\u001b[0;32m     24\u001b[0m     row \u001b[38;5;241m=\u001b[39m [n, t, true_var, theta, sigma_sq]\n\u001b[0;32m     26\u001b[0m     \u001b[38;5;66;03m# write the data\u001b[39;00m\n",
      "\u001b[1;31mTypeError\u001b[0m: bootstrap() takes 3 positional arguments but 4 were given"
     ]
    }
   ],
   "source": [
    "B =  500 #bootstrap iterations\n",
    "    \n",
    "header = ['n', 'T', 'true_parameter', 'estimator_mean', 'estimator_variance']\n",
    "\n",
    "T = 1000 #trials\n",
    "list_of_n = [250, 500, 750, 1000, 2500, 5000, 10000]\n",
    "\n",
    "true_mean = 190\n",
    "true_sd = 30\n",
    "true_var = true_sd**2\n",
    "\n",
    "R = [100,1100]\n",
    "\n",
    "with open('pb_gaussian_var_DP.csv', 'w', encoding='UTF8', newline='') as file:\n",
    "    writer = csv.writer(file)\n",
    "\n",
    "    # write the header\n",
    "    writer.writerow(header)\n",
    "\n",
    "    for n in list_of_n:\n",
    "        for t in range(T):\n",
    "            data = np.random.normal(true_mean, true_sd, n)\n",
    "            theta, sigma_sq = bootstrap(B, data, estimator_var, R)\n",
    "            row = [n, t, true_var, theta, sigma_sq]\n",
    "        \n",
    "            # write the data\n",
    "            writer.writerow(row)"
   ]
  }
 ],
 "metadata": {
  "kernelspec": {
   "display_name": "Python 3 (ipykernel)",
   "language": "python",
   "name": "python3"
  },
  "language_info": {
   "codemirror_mode": {
    "name": "ipython",
    "version": 3
   },
   "file_extension": ".py",
   "mimetype": "text/x-python",
   "name": "python",
   "nbconvert_exporter": "python",
   "pygments_lexer": "ipython3",
   "version": "3.8.6"
  }
 },
 "nbformat": 4,
 "nbformat_minor": 4
}
