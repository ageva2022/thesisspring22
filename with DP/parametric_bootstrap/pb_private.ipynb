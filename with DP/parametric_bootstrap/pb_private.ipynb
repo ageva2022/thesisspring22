{
 "cells": [
  {
   "cell_type": "code",
   "execution_count": 1,
   "metadata": {},
   "outputs": [],
   "source": [
    "import numpy as np \n",
    "import matplotlib.pyplot as plt\n",
    "import random\n",
    "import csv"
   ]
  },
  {
   "cell_type": "code",
   "execution_count": 2,
   "metadata": {},
   "outputs": [],
   "source": [
    "def PrivateGaussianEst(X, epsilon, R, estimator_func):\n",
    "    \"\"\"\n",
    "    INPUT\n",
    "    X: data sample from a Gaussian of unknown mean and std\n",
    "    epsilon: DP privacy parameter\n",
    "    R: data range (supplied by analyst)\n",
    "\n",
    "    OUTPUT\n",
    "    mu_hat_priv: private estimate of the mean\n",
    "    sigma_hat_priv: private estimate of the mean\n",
    "\n",
    "    (note: this uses a 50-50 budget split between mu and sigma priv estimates)\n",
    "    \"\"\"\n",
    "    n = len(X)\n",
    "    \n",
    "    #clamp data to given range R\n",
    "    X[X<R[0]] = R[0]\n",
    "    X[X>R[1]] = R[1]\n",
    "\n",
    "    #privately estimate mu using half of the budget\n",
    "    Delta_mu = 1/n * (R[1]-R[0])\n",
    "    mu_noise = np.random.laplace(loc=0, scale=Delta_mu/(epsilon/2))\n",
    "    mu_hat_priv =  estimator_func(X) + mu_noise\n",
    "\n",
    "    #privately estimate sigma using half of the budget\n",
    "    Delta_sigma = 2/n * (R[1]-R[0])\n",
    "    sigma_noise = np.random.laplace(loc=0, scale=Delta_sigma/(epsilon/2))\n",
    "    sigma_hat_priv_tmp = 1/n * np.sum(np.abs(X-np.mean(X))) + sigma_noise\n",
    "    sigma_hat_priv = np.sqrt(np.pi/2) * max(1e-8, sigma_hat_priv_tmp)  # see Du et al. 2020\n",
    "\n",
    "    return mu_hat_priv, sigma_hat_priv"
   ]
  },
  {
   "cell_type": "code",
   "execution_count": 3,
   "metadata": {
    "jupyter": {
     "source_hidden": true
    }
   },
   "outputs": [],
   "source": [
    "def applyDP(data, theta_hat):\n",
    "    \n",
    "    epsilon = 0.05\n",
    "    Delta = (data.max() - data.min())/ len(data)\n",
    "\n",
    "    # we need to define the scale parameter of the Laplace noise (see notes)\n",
    "    b = Delta/epsilon\n",
    "\n",
    "    # sample the laplace noise \n",
    "    noise = np.random.laplace(loc=0, scale=b)\n",
    "    # print(\"noise =\", noise)\n",
    "\n",
    "    # add the noise to the average we found\n",
    "    theta_hat_DP = theta_hat + noise\n",
    "    \n",
    "\n",
    "    return theta_hat_DP"
   ]
  },
  {
   "cell_type": "code",
   "execution_count": 4,
   "metadata": {},
   "outputs": [],
   "source": [
    "def bootstrap(B, data, estimator_func, R):\n",
    "    bootstrap_vec = []\n",
    "    \n",
    "    epsilon = 1\n",
    "    theta_hat_priv, sigma_hat_priv = PrivateGaussianEst(data, epsilon, R, estimator_func)\n",
    "    \n",
    "    \n",
    "    #estimator func: input: data, privacy budget, bounds, .output: mean and sd\n",
    "    \n",
    "    for b in range(B):\n",
    "        data_tilde = np.random.normal(theta_hat_priv, sigma_hat_priv, len(data)) #sample with theta_hat_DP instead?\n",
    "        \n",
    "        theta_tilde_priv, sigma_tilde_priv = PrivateGaussianEst(data_tilde, epsilon, R, estimator_func)\n",
    "        \n",
    "        bootstrap_vec.append(theta_tilde_priv)\n",
    "    sigma_sq = np.var(bootstrap_vec)    \n",
    "        \n",
    "    return (theta_hat_priv, sigma_sq)"
   ]
  },
  {
   "cell_type": "code",
   "execution_count": 6,
   "metadata": {},
   "outputs": [
    {
     "name": "stdout",
     "output_type": "stream",
     "text": [
      "192.7090792636657 6.824988496704405\n"
     ]
    }
   ],
   "source": [
    "data = np.random.normal(190, 30, 100)\n",
    "B = 10\n",
    "\n",
    "R = [160, 220]\n",
    "\n",
    "def estimator_mean(data):\n",
    "    return np.mean(data)\n",
    "\n",
    "(theta_hat_priv, sigma_sq) = bootstrap(B, data, estimator_mean, R)\n",
    "print(theta_hat_priv, sigma_sq)"
   ]
  },
  {
   "cell_type": "code",
   "execution_count": null,
   "metadata": {},
   "outputs": [],
   "source": []
  }
 ],
 "metadata": {
  "kernelspec": {
   "display_name": "Python 3 (ipykernel)",
   "language": "python",
   "name": "python3"
  },
  "language_info": {
   "codemirror_mode": {
    "name": "ipython",
    "version": 3
   },
   "file_extension": ".py",
   "mimetype": "text/x-python",
   "name": "python",
   "nbconvert_exporter": "python",
   "pygments_lexer": "ipython3",
   "version": "3.8.6"
  }
 },
 "nbformat": 4,
 "nbformat_minor": 4
}
