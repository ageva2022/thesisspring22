{
 "cells": [
  {
   "cell_type": "code",
   "execution_count": 4,
   "metadata": {},
   "outputs": [
    {
     "name": "stdout",
     "output_type": "stream",
     "text": [
      "188.05113352208662 4.923831804309993\n"
     ]
    }
   ],
   "source": [
    "import numpy as np \n",
    "import matplotlib.pyplot as plt\n",
    "import random\n",
    "import csv\n",
    "\n",
    "from ipynb.fs.full.pb_private import bootstrap"
   ]
  },
  {
   "cell_type": "code",
   "execution_count": 5,
   "metadata": {},
   "outputs": [],
   "source": [
    "def estimator_mean(data):\n",
    "    return np.mean(data)\n",
    "\n",
    "def estimator_var(data):\n",
    "    return np.var(data)"
   ]
  },
  {
   "cell_type": "code",
   "execution_count": null,
   "metadata": {},
   "outputs": [],
   "source": []
  },
  {
   "cell_type": "code",
   "execution_count": 6,
   "metadata": {},
   "outputs": [],
   "source": [
    "B =  500 #bootstrap iterations\n",
    "    \n",
    "header = ['n', 'T', 'true_parameter', 'estimator_mean', 'estimator_variance']\n",
    "\n",
    "T = 1000 #trials\n",
    "list_of_n = [250, 500, 750, 1000, 2500, 5000]\n",
    "\n",
    "true_mean = 190\n",
    "true_sd = 30\n",
    "true_var = np.square(30)\n",
    "\n",
    "R = [0,1500]\n",
    "\n",
    "with open('pb_gaussian_var_DP2.csv', 'w', encoding='UTF8', newline='') as file:\n",
    "    writer = csv.writer(file)\n",
    "\n",
    "    # write the header\n",
    "    writer.writerow(header)\n",
    "\n",
    "    for n in list_of_n:\n",
    "        for t in range(T):\n",
    "            data = np.random.normal(true_mean, true_sd, n)\n",
    "            theta, sigma_sq = bootstrap(B, data, estimator_var, R)\n",
    "            row = [n, t, true_var, theta, sigma_sq]\n",
    "        \n",
    "            # write the data\n",
    "            writer.writerow(row)"
   ]
  }
 ],
 "metadata": {
  "kernelspec": {
   "display_name": "Python 3 (ipykernel)",
   "language": "python",
   "name": "python3"
  },
  "language_info": {
   "codemirror_mode": {
    "name": "ipython",
    "version": 3
   },
   "file_extension": ".py",
   "mimetype": "text/x-python",
   "name": "python",
   "nbconvert_exporter": "python",
   "pygments_lexer": "ipython3",
   "version": "3.8.6"
  }
 },
 "nbformat": 4,
 "nbformat_minor": 4
}
