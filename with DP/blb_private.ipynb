{
 "cells": [
  {
   "cell_type": "code",
   "execution_count": 9,
   "metadata": {},
   "outputs": [],
   "source": [
    "import numpy as np \n",
    "import matplotlib.pyplot as plt\n",
    "import random\n",
    "import csv\n",
    "\n",
    "from ipynb.fs.full.coinpress1 import UVMRec"
   ]
  },
  {
   "cell_type": "code",
   "execution_count": 10,
   "metadata": {},
   "outputs": [],
   "source": [
    "r = 500 #bootstrap iterations"
   ]
  },
  {
   "cell_type": "code",
   "execution_count": 11,
   "metadata": {},
   "outputs": [],
   "source": [
    "def blb(estimator_func, data, n, true_var, bounds_theta, bounds_sigma_sq):\n",
    "    \n",
    "    k = int(4 * np.sqrt(n)) # num partitions\n",
    "    r = 500 #bootstrap iterations\n",
    "\n",
    "    # tau: estimators\n",
    "    tau = np.zeros([k,r]) \n",
    "\n",
    "    theta_vec = []\n",
    "    sigma_sq_vec = []\n",
    "    # randomly partition X into k subsets\n",
    "    random.shuffle(data)\n",
    "    partition_size = int(np.floor(n/k))\n",
    "    partitions = [data[i:i + partition_size] for i in range(0, len(data), partition_size)]\n",
    "\n",
    "    # range for randint\n",
    "    low=0\n",
    "    high=len(partitions[0]) #don't need to do b-1 because upper bound is exclusive\n",
    "\n",
    "    # for each partition\n",
    "    for i in range(k):\n",
    "    \n",
    "        b = len(partitions[i]) \n",
    "    \n",
    "        # for a partition, create r subsets\n",
    "        for c in range(r):\n",
    "            I = np.random.randint(low, high, size=n)\n",
    "#             print(\"I \", I)\n",
    "            replicate = data[I]\n",
    "        \n",
    "            tau[i,c] = estimator_func(replicate)  \n",
    "           \n",
    "        low = low + b\n",
    "        high = high + b\n",
    "        \n",
    "    # mean and var of estimators for each prtition, not the data        \n",
    "    theta_vec = np.mean(tau,axis=1)\n",
    "    sigma_sq_vec = np.var(tau,axis=1) #var\n",
    "\n",
    "    #inputs for UVMRec\n",
    "    t = 10\n",
    "    rho = 0.5\n",
    "    beta = 0.1\n",
    "    \n",
    "    est_sd_theta = np.sqrt(true_var * 1/len(data))\n",
    "    \n",
    "    theta = UVMRec(theta_vec, bounds_theta, est_sd_theta, t, rho, beta)\n",
    "    \n",
    "    est_sd_sigma_sq = np.sqrt((2*(np.std(data)**4))/(len(data)-1))\n",
    "    sigma_sq = UVMRec(sigma_sq_vec, bounds_sigma_sq, est_sd_sigma_sq, t, rho, beta)\n",
    "\n",
    "    return (theta, sigma_sq)"
   ]
  }
 ],
 "metadata": {
  "kernelspec": {
   "display_name": "Python 3 (ipykernel)",
   "language": "python",
   "name": "python3"
  },
  "language_info": {
   "codemirror_mode": {
    "name": "ipython",
    "version": 3
   },
   "file_extension": ".py",
   "mimetype": "text/x-python",
   "name": "python",
   "nbconvert_exporter": "python",
   "pygments_lexer": "ipython3",
   "version": "3.8.6"
  }
 },
 "nbformat": 4,
 "nbformat_minor": 4
}
