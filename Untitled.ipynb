{
 "cells": [
  {
   "cell_type": "code",
   "execution_count": 1,
   "metadata": {},
   "outputs": [],
   "source": [
    "import numpy as np \n",
    "import matplotlib.pyplot as plt\n",
    "import random"
   ]
  },
  {
   "cell_type": "code",
   "execution_count": 2,
   "metadata": {},
   "outputs": [],
   "source": [
    "# UVMRec inputs\n",
    "\n",
    "true_mean = 190 #normalize data? mean needs to be 0\n",
    "true_sd = 30\n",
    "true_var = true_sd**2\n",
    "\n",
    "\n",
    "\n",
    "t = 10\n",
    "rho = 0.5\n",
    "beta = 0.1\n",
    "bounds = [180, 200]"
   ]
  },
  {
   "cell_type": "code",
   "execution_count": 7,
   "metadata": {},
   "outputs": [
    {
     "ename": "SyntaxError",
     "evalue": "invalid syntax (1745962031.py, line 22)",
     "output_type": "error",
     "traceback": [
      "\u001b[1;36m  Input \u001b[1;32mIn [7]\u001b[1;36m\u001b[0m\n\u001b[1;33m    new_lower =\u001b[0m\n\u001b[1;37m                ^\u001b[0m\n\u001b[1;31mSyntaxError\u001b[0m\u001b[1;31m:\u001b[0m invalid syntax\n"
     ]
    }
   ],
   "source": [
    "def UVM(data, lower, upper, var, rho, beta):\n",
    "\n",
    "    n = len(data)\n",
    "    \n",
    "    data_sq = data**2\n",
    "    \n",
    "    clamped_data = np.copy(data_sq)\n",
    "    \n",
    "    T_upper = upper * (1 + 2*np.sqrt(np.log(1/beta)) + 2*np.log(1/beta))\n",
    "    T_lower = 0\n",
    "    \n",
    "    clamped_data[clamped_data>T_upper] = T_upper\n",
    "    clamped_data[clamped_data<T_lower] = T_lower\n",
    "    \n",
    "    delta = (1/len) * upper * (1 + 2*np.sqrt(np.log(1/beta)) + 2*np.log(1/beta))\n",
    "    (upper-lower+2*sd*np.sqrt(2*np.log(2*n/beta)))/n\n",
    "    \n",
    "    Y = np.random.normal(0, (delta/np.sqrt(2*rho))**2)\n",
    "    \n",
    "    Z = np.mean(data_sq) + Y\n",
    "    \n",
    "    new_lower = \n",
    " "
   ]
  },
  {
   "cell_type": "code",
   "execution_count": 8,
   "metadata": {},
   "outputs": [],
   "source": [
    "def UVVRec(data, bounds, true_var, t, rho, beta):\n",
    "    lower = bounds[0]\n",
    "    upper = bounds[1]\n",
    "    \n",
    "    for i in range(t-1):\n",
    "        \n",
    "        lower, upper = UVV(data, lower, upper, true_var, rho/(4*(t-1)), (beta/(4*(t-1))))\n",
    "#         print(\"after it \", lower, \" \", upper)\n",
    "#         print(\"diff \", upper-lower)\n",
    "    lower, upper = UVV(data, lower, upper, true_var, 3*rho/4, beta/4)\n",
    "    \n",
    "    \n",
    "    \n",
    "    return ((lower+upper)/2)"
   ]
  }
 ],
 "metadata": {
  "kernelspec": {
   "display_name": "Python 3 (ipykernel)",
   "language": "python",
   "name": "python3"
  },
  "language_info": {
   "codemirror_mode": {
    "name": "ipython",
    "version": 3
   },
   "file_extension": ".py",
   "mimetype": "text/x-python",
   "name": "python",
   "nbconvert_exporter": "python",
   "pygments_lexer": "ipython3",
   "version": "3.8.6"
  }
 },
 "nbformat": 4,
 "nbformat_minor": 4
}
