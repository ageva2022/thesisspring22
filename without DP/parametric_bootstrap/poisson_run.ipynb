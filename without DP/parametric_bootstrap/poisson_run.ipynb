{
 "cells": [
  {
   "cell_type": "code",
   "execution_count": 1,
   "metadata": {},
   "outputs": [],
   "source": [
    "import numpy as np \n",
    "import matplotlib.pyplot as plt\n",
    "import random\n",
    "import csv"
   ]
  },
  {
   "cell_type": "code",
   "execution_count": 2,
   "metadata": {},
   "outputs": [],
   "source": [
    "def estimator_mean(data):\n",
    "    return np.mean(data)\n",
    "\n",
    "def estimator_var(data):\n",
    "    return np.var(data)"
   ]
  },
  {
   "cell_type": "code",
   "execution_count": 3,
   "metadata": {},
   "outputs": [],
   "source": [
    "def bootstrap(B, data, estimator_func):\n",
    "    bootstrap_vec = []\n",
    "    theta_hat = np.mean(data)\n",
    "    for b in range(B):\n",
    "        data_tilde = np.random.poisson(theta_hat, len(data))\n",
    "        theta_tilde = estimator_func(data_tilde)\n",
    "        bootstrap_vec.append(theta_tilde)\n",
    "    sigma_sq = np.var(bootstrap_vec)\n",
    "        \n",
    "    return (theta_hat, sigma_sq)"
   ]
  },
  {
   "cell_type": "code",
   "execution_count": 4,
   "metadata": {},
   "outputs": [],
   "source": [
    "B =  500 #bootstrap iterations\n",
    "    \n",
    "header = ['n', 'T', 'true_parameter', 'estimator_mean', 'estimator_variance']\n",
    "\n",
    "T = 1000 #trials\n",
    "list_of_n = [250, 500, 750, 1000, 2500]\n",
    "#[1000, 2500, 5000, 10000, 15000, 20000]\n",
    "\n",
    "true_theta = 4\n",
    "\n",
    "\n",
    "with open('pb_poisson.csv', 'w', encoding='UTF8', newline='') as file:\n",
    "    writer = csv.writer(file)\n",
    "\n",
    "    # write the header\n",
    "    writer.writerow(header)\n",
    "\n",
    "    for n in list_of_n:\n",
    "        for t in range(T):\n",
    "            data = np.random.poisson(true_theta, n)\n",
    "            theta, sigma_sq = bootstrap(B, data, estimator_mean)\n",
    "            row = [n, t, true_theta, theta, sigma_sq]\n",
    "        \n",
    "            # write the data\n",
    "            writer.writerow(row)"
   ]
  }
 ],
 "metadata": {
  "kernelspec": {
   "display_name": "Python 3 (ipykernel)",
   "language": "python",
   "name": "python3"
  },
  "language_info": {
   "codemirror_mode": {
    "name": "ipython",
    "version": 3
   },
   "file_extension": ".py",
   "mimetype": "text/x-python",
   "name": "python",
   "nbconvert_exporter": "python",
   "pygments_lexer": "ipython3",
   "version": "3.8.6"
  }
 },
 "nbformat": 4,
 "nbformat_minor": 4
}
